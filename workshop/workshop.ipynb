{
 "cells": [
  {
   "cell_type": "markdown",
   "metadata": {
    "tags": []
   },
   "source": [
    "# Predicting failing cable joints with a classification model"
   ]
  },
  {
   "cell_type": "markdown",
   "metadata": {
    "tags": []
   },
   "source": [
    "## Introduction\n",
    "Our powergrid is an intricate network of cables/lines and stations that transport electricity from powerplants, solar parcs, wind parcs, etc. to e.g. your home. Within this network the cables are connected using cable joints (or 'Moffen' in Dutch). A range of joint types are used in our grid as these have improved over time. Older joints might experience failure due to a range of conditions. One of Alliander's main objectives is to have a reliable grid. Therefore, it is important to know which joint types are prone to failure in order to prevent power failures. \n",
    "\n",
    "Today, Alliander is going to ask you to come up with a way to predict cable joint failures using classification models. We know that joints fail due to large temperature variations and subsequently cause short circuits. The failure of cable joints is difficult to determine. However, we know that there is a relationship between a joint failure and the depth of a joint, the joint type, soil type and groundwater level. We also know that joint type is the most dominant factor to joint failures.\n",
    "\n",
    "Using the information supplied above and the supplied dataset containing information on the cable joints present in our grid, try to come up with classification models that predict the failure of cable joints."
   ]
  },
  {
   "cell_type": "markdown",
   "metadata": {},
   "source": [
    "**Contents:**\n",
    "1. [Import packages and load the data](#1)\n",
    "1. [Data Exploration](#2)\n",
    "1. [Preparation of the data](#3)\n",
    "1. [Analysis ](#4)\n",
    "1. [Split train- and testset](#5)\n",
    "1. [Model training](#6)\n",
    "1. [Model validation](#7)\n",
    "1. [Conclusion](#8)\n"
   ]
  },
  {
   "cell_type": "markdown",
   "metadata": {},
   "source": [
    "<a id=\"1\"></a> \n",
    "\n",
    "## 0. (Optional) Install the packages only if they are not already installed"
   ]
  },
  {
   "cell_type": "code",
   "execution_count": null,
   "metadata": {
    "scrolled": true
   },
   "outputs": [],
   "source": [
    "# Restart kernel when install is finished\n",
    "!pip install -r ../requirements.txt"
   ]
  },
  {
   "cell_type": "markdown",
   "metadata": {},
   "source": [
    "<a id=\"1\"></a> \n",
    "\n",
    "## 1. Import packages and load the data"
   ]
  },
  {
   "cell_type": "code",
   "execution_count": 1,
   "metadata": {
    "ExecuteTime": {
     "end_time": "2024-04-02T14:44:49.745648500Z",
     "start_time": "2024-04-02T14:44:48.084827100Z"
    },
    "tags": []
   },
   "outputs": [],
   "source": [
    "import math\n",
    "import matplotlib.pyplot as plt\n",
    "import numpy as np\n",
    "import pandas as pd\n",
    "import seaborn as sns\n",
    "import sklearn\n",
    "import sklearn.ensemble\n",
    "import sklearn.model_selection\n",
    "import sklearn.tree\n",
    "import xgboost as xgb"
   ]
  },
  {
   "cell_type": "code",
   "execution_count": 2,
   "metadata": {
    "is_executing": true,
    "tags": []
   },
   "outputs": [],
   "source": [
    "# Set plotly as panda's default way of plotting\n",
    "pd.options.plotting.backend = \"plotly\""
   ]
  },
  {
   "cell_type": "code",
   "execution_count": 2,
   "metadata": {
    "ExecuteTime": {
     "end_time": "2024-04-02T14:45:17.816713100Z",
     "start_time": "2024-04-02T14:45:17.765470100Z"
    },
    "tags": []
   },
   "outputs": [],
   "source": [
    "# Load data as a DataFrame\n",
    "df = pd.read_csv(\"data/dataset.csv\")"
   ]
  },
  {
   "cell_type": "markdown",
   "metadata": {},
   "source": [
    "<a id=\"2\"></a> \n",
    "\n",
    "\n",
    "## 2. Data Exploration\n",
    "The first step of any Data Science project is to explore the dataset and familiarize yourself with the available variables.\n",
    "\n",
    "Here is an overview with a short description of each variable:\n",
    "| Variable | Description   |\n",
    "|------|------|\n",
    "| FAILURE  | Indicates whether the asset has failed. |\n",
    "| YEAR_CONSTRUCTION | The year that asset was installed in the network. |\n",
    "| YEAR_ACTIVE | The year in which the asset was first utilized. |\n",
    "| AGE | The age of the asset (determined in 2018). |\n",
    "| CABLE_COX1 | Cable type on installation side. |\n",
    "| CABLE_COX2 | Cable type on the network side. |\n",
    "| COX1==COX2 | Are cable 1 and 2 of the same type? |\n",
    "| CONSTRUCTION_ORIG | ??? |\n",
    "| CONSTRUCTION_EXP | ??? |\n",
    "| CONSTRUCTION_COX | ??? |\n",
    "| GROUND_TYPE | Type of ground/soil. \n",
    "| SUBSIDENCE  | Has the soil been subsided? |\n",
    "| DEWATERING_DEPTH_CM | The difference in cm between ground water level and surface level. |"
   ]
  },
  {
   "cell_type": "markdown",
   "metadata": {
    "tags": []
   },
   "source": [
    "#### 2.1 First insights in the dataset!"
   ]
  },
  {
   "cell_type": "code",
   "execution_count": null,
   "metadata": {
    "tags": []
   },
   "outputs": [],
   "source": [
    "# First view of the data\n",
    "df.head(10)"
   ]
  },
  {
   "cell_type": "code",
   "execution_count": null,
   "metadata": {
    "tags": []
   },
   "outputs": [],
   "source": [
    "# EXERCISE:\n",
    "# Print the number of rows and columns."
   ]
  },
  {
   "cell_type": "code",
   "execution_count": null,
   "metadata": {
    "tags": []
   },
   "outputs": [],
   "source": [
    "# EXERCISE:\n",
    "# Show a short statistical summary (mean, standard deviation, etc) for the numeric values in the dataframe."
   ]
  },
  {
   "cell_type": "code",
   "execution_count": null,
   "metadata": {
    "tags": []
   },
   "outputs": [],
   "source": [
    "# EXERCISE:\n",
    "# Show data types for each column."
   ]
  },
  {
   "cell_type": "markdown",
   "metadata": {
    "tags": []
   },
   "source": [
    "#### 2.2 Analyse the variable we try to predict"
   ]
  },
  {
   "cell_type": "code",
   "execution_count": null,
   "metadata": {
    "tags": []
   },
   "outputs": [],
   "source": [
    "# EXERICSE:\n",
    "# Make a count of the number of failures."
   ]
  },
  {
   "cell_type": "markdown",
   "metadata": {
    "tags": []
   },
   "source": [
    "#### 2.3 Analyse categorical variables"
   ]
  },
  {
   "cell_type": "code",
   "execution_count": null,
   "metadata": {
    "tags": []
   },
   "outputs": [],
   "source": [
    "# EXERCISE:\n",
    "# Plot the columns that you want to inspect the values of.\n",
    "categorical_columns = [\n",
    "    \"...\",\n",
    "    \"...\"\n",
    "]\n",
    "\n",
    "for col in categorical_columns:\n",
    "    df.plot(\n",
    "        kind='hist',\n",
    "        x=col,\n",
    "        title=col\n",
    "    ).show()"
   ]
  },
  {
   "cell_type": "markdown",
   "metadata": {
    "tags": []
   },
   "source": [
    "#### 2.4 Analyse the distribution of the numerical variables"
   ]
  },
  {
   "cell_type": "code",
   "execution_count": null,
   "metadata": {
    "tags": []
   },
   "outputs": [],
   "source": [
    "# EXERICE:\n",
    "# Now make some figures to analyse the distribution of the values in the numerical columns. \n",
    "# Experiment with different chart types. For inspiration see: https://pandas.pydata.org/docs/reference/api/pandas.DataFrame.plot.html\n",
    "# Feel free to use explore an alternative library for producing figures if you feel like it."
   ]
  },
  {
   "cell_type": "markdown",
   "metadata": {
    "tags": []
   },
   "source": [
    "#### 2.5 Check for missing data\n",
    "\n",
    "When training a model the quality of your data can be a limiting factor.\n",
    "Therefore, it is wise to check the completeness of the column in your dataset early on."
   ]
  },
  {
   "cell_type": "code",
   "execution_count": null,
   "metadata": {
    "tags": []
   },
   "outputs": [],
   "source": [
    "# EXERCISE:\n",
    "# Provide insights (table or figure) in the percentage of missing values per column."
   ]
  },
  {
   "cell_type": "markdown",
   "metadata": {},
   "source": [
    "<a id=\"3\"></a> \n",
    "\n",
    "\n",
    "## 3. Data Preparation\n",
    "In the data preparation step we want to re-structure our dataset to a format on which we can apply models.\n",
    "And also remove factors (such as outliers, missing values, incorrect data, etc.) that negatively impact the ability to train a good model."
   ]
  },
  {
   "cell_type": "markdown",
   "metadata": {},
   "source": [
    "#### 3.1 Remove outliers"
   ]
  },
  {
   "cell_type": "code",
   "execution_count": null,
   "metadata": {
    "tags": []
   },
   "outputs": [],
   "source": [
    "# EXERCISE:\n",
    "# Based on your results in the exploration step, try to remove some absurd values (outliers) that might negatively impact a machine learning model."
   ]
  },
  {
   "cell_type": "markdown",
   "metadata": {},
   "source": [
    "#### 3.2 Fill missing values\n",
    "\n",
    "Not all models can handle handle missing values in input variables: NaN/None/etc.\n",
    "In that case you have to come up with a strategy on how to replace missing values if you want to be able to use all variables."
   ]
  },
  {
   "cell_type": "code",
   "execution_count": null,
   "metadata": {
    "tags": []
   },
   "outputs": [],
   "source": [
    "# EXERCISE:\n",
    "# Fill in (or remove) the missing values in numeric columns. A good strategy might be to fill the missing with the statistical average."
   ]
  },
  {
   "cell_type": "markdown",
   "metadata": {},
   "source": [
    "#### 3.3 Apply one-hot-encoding on categorical variables\n",
    "Most models expect categorical variables to be one-hot encoded.\n",
    "See for more information: https://en.wikipedia.org/wiki/One-hot"
   ]
  },
  {
   "cell_type": "code",
   "execution_count": null,
   "metadata": {
    "tags": []
   },
   "outputs": [],
   "source": [
    "# EXERCISE:\n",
    "# Find all the categorical variables and one-hot-encode them. \n",
    "# Hint: https://pandas.pydata.org/docs/reference/api/pandas.get_dummies.html\n",
    "categorical_columns = [\n",
    "    \"...\"\n",
    "]\n",
    "\n",
    "df_prepped = pd.DataFrame()"
   ]
  },
  {
   "cell_type": "markdown",
   "metadata": {
    "tags": []
   },
   "source": [
    "<a id=\"4\"></a> \n",
    "\n",
    "\n",
    "## 4. Analyse\n",
    "\n",
    "So far we have prepped the dataset and analysed the distributions of the variables.\n",
    "Before we start to train some models, it is a good idea to analyse the different relationships between the variables. \n",
    "Most importantly, how they relate to the failure of cable joints."
   ]
  },
  {
   "cell_type": "code",
   "execution_count": null,
   "metadata": {
    "tags": []
   },
   "outputs": [],
   "source": [
    "# EXERCISE: \n",
    "# Try make some useful figures to investigate the relationships between age-related variables and the amount of failures."
   ]
  },
  {
   "cell_type": "code",
   "execution_count": null,
   "metadata": {
    "tags": []
   },
   "outputs": [],
   "source": [
    "# EXERCISE:\n",
    "# Now try to find a way to visualise the relationships between the categorical variables and the failures of cable joints."
   ]
  },
  {
   "cell_type": "code",
   "execution_count": null,
   "metadata": {
    "tags": []
   },
   "outputs": [],
   "source": [
    "# EXERCISE: \n",
    "# Compute a correlation matrix for all the variables in the dataset. Select subsets to have clear overview, everything in one plot becomes quite unreadable.\n",
    "# What variables seem to be (strongly) correlated with \"FAILURE\" and with each other? Can you explain the relationships that you have found? And do they make sense?"
   ]
  },
  {
   "cell_type": "code",
   "execution_count": null,
   "metadata": {
    "tags": []
   },
   "outputs": [],
   "source": [
    "# Select the columns here\n",
    "columns = ['FAILURE'] + []\n",
    "\n",
    "# Compute correlation matrix\n",
    "corrmat = None\n",
    "\n",
    "# Correlation matrix figure (with seaborn)\n",
    "sns.set(rc={'figure.figsize':(16, 16)})\n",
    "sns.heatmap(corrmat, vmax=.8, square=True, annot=True, cmap='RdBu_r')"
   ]
  },
  {
   "cell_type": "markdown",
   "metadata": {},
   "source": [
    "<a id=\"5\"></a> \n",
    "\n",
    "\n",
    "## 5. Split train- and testset\n",
    "In order to validate how good you machine learning model is able to predict failures "
   ]
  },
  {
   "cell_type": "code",
   "execution_count": null,
   "metadata": {
    "tags": []
   },
   "outputs": [],
   "source": [
    "# EXERCISE: \n",
    "# Split the dataset into two dataframes one for training and the other for testing.\n",
    "df_train, df_test = pd.DataFrame, pd.DataFrame()"
   ]
  },
  {
   "cell_type": "markdown",
   "metadata": {},
   "source": [
    "<a id=\"6\"></a> \n",
    "## 6. Model training\n",
    "In this step we will train 3 different classification models.\n",
    "You can use [Model Validation](#7) to evaluate the performance of the models.\n",
    "Try to train and validate your models one at a time."
   ]
  },
  {
   "cell_type": "code",
   "execution_count": null,
   "metadata": {
    "tags": []
   },
   "outputs": [],
   "source": [
    "# In this dictionary we will save the trained models\n",
    "models = {}"
   ]
  },
  {
   "cell_type": "code",
   "execution_count": null,
   "metadata": {
    "tags": []
   },
   "outputs": [],
   "source": [
    "# Here we define our predictive variable\n",
    "y_var = \"FAILURE\"\n",
    "y_train = df_train[y_var]\n",
    "y_test = df_test[y_var]"
   ]
  },
  {
   "cell_type": "markdown",
   "metadata": {
    "tags": []
   },
   "source": [
    "<a id=\"6a\"></a> \n",
    "## 6.1 Decision Tree\n",
    "\n",
    "For more information see: https://en.wikipedia.org/wiki/Decision_tree_learning\n",
    "\n",
    "For the documentation of the sklearn implementation see: https://scikit-learn.org/stable/modules/generated/sklearn.tree.DecisionTreeClassifier.html#sklearn.tree.DecisionTreeClassifier"
   ]
  },
  {
   "cell_type": "code",
   "execution_count": null,
   "metadata": {
    "tags": []
   },
   "outputs": [],
   "source": [
    "# EXERCISE:\n",
    "# Fit a Decision Tree model with the code below and experiment with different combinations of input variables \n",
    "# and hyperparameters, and investigate how they impact the results in the validation module below."
   ]
  },
  {
   "cell_type": "code",
   "execution_count": null,
   "metadata": {
    "tags": []
   },
   "outputs": [],
   "source": [
    "# Select the input variables for the model\n",
    "x_vars = [\n",
    "    \"...\"\n",
    "]\n",
    "\n",
    "x_train = df_train.loc[:, x_vars]\n",
    "x_test = df_test.loc[:, x_vars]"
   ]
  },
  {
   "cell_type": "code",
   "execution_count": null,
   "metadata": {
    "tags": []
   },
   "outputs": [],
   "source": [
    "# Train model\n",
    "models[\"decision_tree\"] = sklearn.tree.DecisionTreeClassifier(\n",
    "    max_depth=None,\n",
    "    min_samples_split=None,\n",
    "    min_samples_leaf=None\n",
    ").fit(x_train, y_train)"
   ]
  },
  {
   "cell_type": "markdown",
   "metadata": {
    "tags": []
   },
   "source": [
    "<a id=\"6b\"></a> \n",
    "## 6.2 Random Forest \n",
    "\n"
   ]
  },
  {
   "cell_type": "code",
   "execution_count": null,
   "metadata": {
    "tags": []
   },
   "outputs": [],
   "source": [
    "# EXERCISE:\n",
    "# Fit a Random Forest model with the code below and experiment with different combinations of input variables \n",
    "# and hyperparameters, and investigate how they impact the results in the validation module below."
   ]
  },
  {
   "cell_type": "code",
   "execution_count": null,
   "metadata": {
    "tags": []
   },
   "outputs": [],
   "source": [
    "# Select the input variables for the model\n",
    "x_vars = [\n",
    "    \"...\"\n",
    "]\n",
    "\n",
    "x_train = df_train.loc[:, x_vars]\n",
    "x_test = df_test.loc[:, x_vars]"
   ]
  },
  {
   "cell_type": "code",
   "execution_count": null,
   "metadata": {
    "tags": []
   },
   "outputs": [],
   "source": [
    "models[\"random_forest\"] = sklearn.ensemble.RandomForestClassifier(\n",
    "    # Number of trees\n",
    "    n_estimators=100,\n",
    "    # Max depth of a tree\n",
    "    max_depth=16,\n",
    "    \n",
    ").fit(x_train, y_train)"
   ]
  },
  {
   "cell_type": "markdown",
   "metadata": {
    "tags": []
   },
   "source": [
    "<a id=\"6v\"></a> \n",
    "## 6.3 XGBoost\n",
    "\n",
    "For more information see: https://en.wikipedia.org/wiki/XGBoost\n",
    "\n",
    "For more information of the xgb implementation see: https://xgboost.readthedocs.io/en/stable/python/python_api.html"
   ]
  },
  {
   "cell_type": "code",
   "execution_count": null,
   "metadata": {},
   "outputs": [],
   "source": [
    "# EXERCISE:\n",
    "# Fit a XGBoost model with the code below and experiment with different combinations of input variables \n",
    "# and hyperparameters, and investigate how they impact the results in the validation module below."
   ]
  },
  {
   "cell_type": "code",
   "execution_count": null,
   "metadata": {
    "tags": []
   },
   "outputs": [],
   "source": [
    "# Select the input variables for the model\n",
    "x_vars = [\n",
    "    \"...\"\n",
    "]\n",
    "\n",
    "x_train = df_train.loc[:, x_vars]\n",
    "x_test = df_test.loc[:, x_vars]"
   ]
  },
  {
   "cell_type": "code",
   "execution_count": null,
   "metadata": {
    "tags": []
   },
   "outputs": [],
   "source": [
    "models[\"xgboost\"] = xgb.XGBClassifier(\n",
    "    random_state=42\n",
    ").fit(x_train, y_train)"
   ]
  },
  {
   "cell_type": "markdown",
   "metadata": {},
   "source": [
    "<a id=\"7\"></a> \n",
    "## 7. Model Validation\n",
    "Now that we have trained a single or multiple models, we want to know how good it can predict the failure of cable joints."
   ]
  },
  {
   "cell_type": "code",
   "execution_count": null,
   "metadata": {
    "tags": []
   },
   "outputs": [],
   "source": [
    "# List fitted models\n",
    "for model in models:\n",
    "    print(model)"
   ]
  },
  {
   "cell_type": "code",
   "execution_count": null,
   "metadata": {
    "tags": []
   },
   "outputs": [],
   "source": [
    "# We select the model we want to evaluate here\n",
    "clf = models[\"decision_tree\"]"
   ]
  },
  {
   "cell_type": "markdown",
   "metadata": {
    "tags": []
   },
   "source": [
    "#### 7.1 Prediction on test-set"
   ]
  },
  {
   "cell_type": "code",
   "execution_count": null,
   "metadata": {
    "tags": []
   },
   "outputs": [],
   "source": [
    "# EXERCISE:\n",
    "# Apply your model on the test-set and obtain two arrays:\n",
    "# - Class predictions, that indicate what class the model predicts (True for failure, False for non-failure).\n",
    "# - Class probabilities, that describe how certain the model is for each class (failure/non-failure).\n",
    "# Hint: use help(clf) to see what functions are available."
   ]
  },
  {
   "cell_type": "code",
   "execution_count": null,
   "metadata": {
    "tags": []
   },
   "outputs": [],
   "source": [
    "# Predict on the test set (True/False for Failure/Non-failure)\n",
    "y_test_pred = None"
   ]
  },
  {
   "cell_type": "code",
   "execution_count": null,
   "metadata": {
    "tags": []
   },
   "outputs": [],
   "source": [
    "# Predict probabilities as well\n",
    "y_test_pred_proba = None"
   ]
  },
  {
   "cell_type": "markdown",
   "metadata": {
    "tags": []
   },
   "source": [
    "#### 7.2 Confusion Matrix"
   ]
  },
  {
   "cell_type": "code",
   "execution_count": null,
   "metadata": {},
   "outputs": [],
   "source": [
    "# EXERCISE:\n",
    "# Make a confusion matrix of the labels predicted by your model."
   ]
  },
  {
   "cell_type": "markdown",
   "metadata": {
    "tags": []
   },
   "source": [
    "#### 7.3 Accuracy"
   ]
  },
  {
   "cell_type": "code",
   "execution_count": null,
   "metadata": {
    "tags": []
   },
   "outputs": [],
   "source": [
    "# EXERCISE:\n",
    "# Compute the accuracy of your model on the test-set."
   ]
  },
  {
   "cell_type": "markdown",
   "metadata": {
    "tags": []
   },
   "source": [
    "#### 7.4 F1 score and PR curve "
   ]
  },
  {
   "cell_type": "code",
   "execution_count": null,
   "metadata": {},
   "outputs": [],
   "source": [
    "# EXERCISE:\n",
    "# Compute the precision, recall and F1-score on the test predictions.\n",
    "# What do these values tell you? Also try to make a precision/recall curve to illustrade the trade-off between the the two for different thresholds."
   ]
  },
  {
   "cell_type": "markdown",
   "metadata": {
    "tags": []
   },
   "source": [
    "#### 7.5 AUC score and ROC Curve"
   ]
  },
  {
   "cell_type": "code",
   "execution_count": null,
   "metadata": {
    "tags": []
   },
   "outputs": [],
   "source": [
    "# EXERCISE:\n",
    "# Now compute an ROC curve and AUC score and interpret them."
   ]
  },
  {
   "cell_type": "markdown",
   "metadata": {
    "tags": []
   },
   "source": [
    "#### 7.6 Optimal Cut-off point"
   ]
  },
  {
   "cell_type": "code",
   "execution_count": null,
   "metadata": {
    "tags": []
   },
   "outputs": [],
   "source": [
    "# EXERCISE:\n",
    "# The default threshold value that is applied on the predicted probabilty is often set at 0.5. \n",
    "# As you have seen with the PR and ROC curves, this threshold can be raised or lowered to prefer False Positives or False Negatives.\n",
    "# Now imagine that the following business costs are implied if we would apply your model:\n",
    "cost_tp = 50\n",
    "cost_tn = 0\n",
    "cost_fp = 50\n",
    "cost_fn = 100\n",
    "\n",
    "# Can you find the optimal threshold value for your model that minimizes the total cost of your predictions on the test-set?"
   ]
  },
  {
   "cell_type": "markdown",
   "metadata": {
    "tags": []
   },
   "source": [
    "#### 7.7 Feature Importance"
   ]
  },
  {
   "cell_type": "code",
   "execution_count": null,
   "metadata": {
    "tags": []
   },
   "outputs": [],
   "source": [
    "# EXERCISE:\n",
    "# Could you obtain the most important features in your model?\n",
    "# Is this in line with the observations you made in the data analysis step?"
   ]
  },
  {
   "cell_type": "markdown",
   "metadata": {},
   "source": [
    "<a id=\"8\"></a> \n",
    "## 8. Conclusion"
   ]
  },
  {
   "cell_type": "code",
   "execution_count": null,
   "metadata": {
    "tags": []
   },
   "outputs": [],
   "source": [
    "# Imagine that you can inspect or replace 200 cable joints (in the test-set). Which ones would you choose? \n",
    "# How many failures would you miss and how many replacements were unnecessary?\n",
    "# ..."
   ]
  },
  {
   "cell_type": "code",
   "execution_count": null,
   "metadata": {
    "tags": []
   },
   "outputs": [],
   "source": [
    "# Can you explain why some models seem to be able to predict failures better based on this dataset than others?\n",
    "# ..."
   ]
  },
  {
   "cell_type": "markdown",
   "metadata": {},
   "source": [
    "<a id=\"8\"></a> \n",
    "## 9. Extra: apply the trained model"
   ]
  },
  {
   "cell_type": "code",
   "execution_count": null,
   "metadata": {},
   "outputs": [],
   "source": [
    "# See which models we have\n",
    "models"
   ]
  },
  {
   "cell_type": "code",
   "execution_count": null,
   "metadata": {},
   "outputs": [],
   "source": [
    "# Make a dataframe with data. Here, we can also change the data and see what happens\n",
    "# EXAMPLE USING EXISTING DATA:\n",
    "df_data = df_prepped.iloc[:10]\n",
    "df_data.drop('FAILURE', axis=1, inplace=True)"
   ]
  },
  {
   "cell_type": "code",
   "execution_count": null,
   "metadata": {},
   "outputs": [],
   "source": [
    "# Make prediction using one of the trained models\n",
    "prediction = models[\"xgboost\"].predict(df_data)"
   ]
  },
  {
   "cell_type": "code",
   "execution_count": null,
   "metadata": {},
   "outputs": [],
   "source": [
    "# Here we get a list of predictions (0 = False and 1 = True). The first value correspond to the first row of the dataframe, \n",
    "# the second value correspond to the second row of the dataframe, etc.\n",
    "print(prediction)"
   ]
  }
 ],
 "metadata": {
  "kernelspec": {
   "display_name": "Python 3 (ipykernel)",
   "language": "python",
   "name": "python3"
  },
  "language_info": {
   "codemirror_mode": {
    "name": "ipython",
    "version": 3
   },
   "file_extension": ".py",
   "mimetype": "text/x-python",
   "name": "python",
   "nbconvert_exporter": "python",
   "pygments_lexer": "ipython3",
   "version": "3.10.11"
  }
 },
 "nbformat": 4,
 "nbformat_minor": 4
}
